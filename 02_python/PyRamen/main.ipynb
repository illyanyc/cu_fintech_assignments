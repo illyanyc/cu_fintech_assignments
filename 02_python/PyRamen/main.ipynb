{
 "cells": [
  {
   "cell_type": "markdown",
   "id": "domestic-restriction",
   "metadata": {},
   "source": [
    "# PyRamen - Homework"
   ]
  },
  {
   "cell_type": "markdown",
   "id": "needed-structure",
   "metadata": {},
   "source": [
    "Analyzes the Ramen shops' financial performance by cross-referencing sales data with internal menu data to figure out revenues and costs for the year"
   ]
  },
  {
   "cell_type": "markdown",
   "id": "interested-computer",
   "metadata": {},
   "source": [
    "---"
   ]
  },
  {
   "cell_type": "markdown",
   "id": "becoming-illness",
   "metadata": {},
   "source": [
    "Import libraries"
   ]
  },
  {
   "cell_type": "code",
   "execution_count": null,
   "id": "informational-episode",
   "metadata": {},
   "outputs": [],
   "source": [
    "import pandas as pd\n",
    "import csv\n",
    "from pathlib import Path"
   ]
  },
  {
   "cell_type": "markdown",
   "id": "numerous-skiing",
   "metadata": {},
   "source": [
    "Set file paths for menu_data.csv and sales_data.csv"
   ]
  },
  {
   "cell_type": "code",
   "execution_count": null,
   "id": "approximate-sodium",
   "metadata": {},
   "outputs": [],
   "source": [
    "menu_filepath = Path('../../PyRamen/Resources/menu_data.csv')\n",
    "sales_filepath = Path('../../PyRamen/Resources/sales_data.csv')\n",
    "output_filepath = Path('result.csv')"
   ]
  },
  {
   "cell_type": "markdown",
   "id": "friendly-classroom",
   "metadata": {},
   "source": [
    "---"
   ]
  },
  {
   "cell_type": "markdown",
   "id": "governmental-cornell",
   "metadata": {},
   "source": [
    "## Methods"
   ]
  },
  {
   "cell_type": "code",
   "execution_count": null,
   "id": "strong-porcelain",
   "metadata": {},
   "outputs": [],
   "source": [
    "# read csv file and write data to list\n",
    "def read_csv_to_list(path):\n",
    "    '''Return a list with data from csv\n",
    "\n",
    "    Parameters\n",
    "    ----------\n",
    "    path : pathlib.PosixPath\n",
    "\n",
    "    Returns\n",
    "    -------\n",
    "    result : list\n",
    "        Nested lists with data from csv\n",
    "    '''\n",
    "    # initialize empty list\n",
    "    result = list()\n",
    "    \n",
    "    # open csv file to be read\n",
    "    with open(path, 'r') as csv_file:\n",
    "    \n",
    "        # reading csv file with csv.reader\n",
    "        reader = csv.reader(csv_file)\n",
    "\n",
    "        # skip header\n",
    "        next(reader)\n",
    "\n",
    "        # iterate over csv file rows\n",
    "        for row in reader:\n",
    "\n",
    "            # write data to list\n",
    "            result.append(row)\n",
    "    \n",
    "    return result"
   ]
  },
  {
   "cell_type": "markdown",
   "id": "unusual-anniversary",
   "metadata": {},
   "source": [
    "---"
   ]
  },
  {
   "cell_type": "markdown",
   "id": "heated-creator",
   "metadata": {},
   "source": [
    "## Reading data"
   ]
  },
  {
   "cell_type": "markdown",
   "id": "foreign-choice",
   "metadata": {},
   "source": [
    "Reading the csv files and writing data to lists"
   ]
  },
  {
   "cell_type": "code",
   "execution_count": null,
   "id": "vocal-tamil",
   "metadata": {},
   "outputs": [],
   "source": [
    "# Read menu_data.csv and write data to a list\n",
    "menu = read_csv_to_list(menu_filepath)\n",
    "# menu"
   ]
  },
  {
   "cell_type": "code",
   "execution_count": null,
   "id": "tender-telescope",
   "metadata": {},
   "outputs": [],
   "source": [
    "# Read sales_data.csv and write data to a list\n",
    "sales = read_csv_to_list(sales_filepath)\n",
    "# sales"
   ]
  },
  {
   "cell_type": "markdown",
   "id": "satellite-roads",
   "metadata": {},
   "source": [
    "## Processing data"
   ]
  },
  {
   "cell_type": "code",
   "execution_count": null,
   "id": "phantom-berlin",
   "metadata": {},
   "outputs": [],
   "source": [
    "# initialize dict object to hold key-value pairs of items and metric \n",
    "'''The report dictionary will eventually contain the following metrics:\n",
    "    01-count: the total quantity for each ramen type\n",
    "    02-revenue: the total revenue for each ramen type\n",
    "    03-cogs: the total cost of goods sold for each ramen type\n",
    "    04-profit: the total profit for each ramen type\n",
    "'''\n",
    "\n",
    "report = {}"
   ]
  },
  {
   "cell_type": "code",
   "execution_count": null,
   "id": "freelance-fairy",
   "metadata": {
    "tags": []
   },
   "outputs": [],
   "source": [
    "# loop over every row in the sales list object\n",
    "for sales_line_item in sales:\n",
    "    \n",
    "    # Line_Item_ID,Date,Credit_Card_Number,Quantity,Menu_Item\n",
    "    quantity = int(sales_line_item[3])\n",
    "    sales_item = sales_line_item[4]\n",
    "    \n",
    "    # if the sales_item is already included in the report then pass\n",
    "    if sales_item in report:\n",
    "        pass    \n",
    "    \n",
    "    # if not, initialize the key-value pairs for the particular sales_item in the report\n",
    "    else:\n",
    "        report[sales_item] = {\n",
    "            \"01-count\": 0,\n",
    "            \"02-revenue\": 0,\n",
    "            \"03-cogs\": 0,\n",
    "            \"04-profit\": 0,\n",
    "        } # set the sales_item as a new key to the report dictionary and the values as a nested dictionary\n",
    "\n",
    "\n",
    "    # loop over the menu records to determine a match\n",
    "    for menu_line_item in menu:\n",
    "        \n",
    "        # set the columns of the menu data to their own variables\n",
    "        item = menu_line_item[0]\n",
    "        price = float(menu_line_item[3])\n",
    "        cost = float(menu_line_item[4])\n",
    "\n",
    "        # calculating profit of each item in the menu data\n",
    "        profit = price - cost\n",
    "        \n",
    "        # if the item value in sales data is equal to the any of the items in the menu, start tracking\n",
    "        if sales_item == item:\n",
    "            # print out matching menu data\n",
    "            # print(menu_item)\n",
    "            \n",
    "            # cumulatively add up the metrics for each item key\n",
    "            report[sales_item][\"01-count\"] += quantity\n",
    "            report[sales_item][\"02-revenue\"] += price * quantity\n",
    "            report[sales_item][\"03-cogs\"] += cost * quantity\n",
    "            report[sales_item][\"04-profit\"] += profit * quantity\n",
    "            \n",
    "        # else, the sales item does not equal any to the item in the menu data, therefore no match\n",
    "        else: pass\n",
    "            # print(f\"{sales_item} does not equal {item}! NO MATCH!\")\n",
    "            "
   ]
  },
  {
   "cell_type": "markdown",
   "id": "monetary-evidence",
   "metadata": {
    "tags": []
   },
   "source": [
    "Print total number of records in sales data"
   ]
  },
  {
   "cell_type": "code",
   "execution_count": null,
   "id": "passing-republican",
   "metadata": {
    "tags": []
   },
   "outputs": [],
   "source": [
    "total_number_of_records = len(sales)-1\n",
    "print(f\"Total number of records in sales data: {total_number_of_records}\")"
   ]
  },
  {
   "cell_type": "markdown",
   "id": "suited-context",
   "metadata": {
    "tags": []
   },
   "source": [
    "## Result\n"
   ]
  },
  {
   "cell_type": "markdown",
   "id": "international-spirituality",
   "metadata": {},
   "source": [
    "Write data to a text file"
   ]
  },
  {
   "cell_type": "code",
   "execution_count": null,
   "id": "tamil-shower",
   "metadata": {},
   "outputs": [],
   "source": [
    "with open(output_filepath, 'w', newline='') as outcsv:\n",
    "    \n",
    "    # instantiate writer\n",
    "    writer = csv.writer(outcsv)\n",
    "    \n",
    "    # write header from report dictionary\n",
    "    header = list(list(report.values())[0].keys()) # get header names from dict keys\n",
    "    header.insert(0, \"menu_item\") # add menu_item to the header as first column\n",
    "    writer.writerow(header) # write header\n",
    "    \n",
    "    # write dictionary to text file\n",
    "    for key, value in report.items():\n",
    "        \n",
    "        # build the line to be writtent o text file\n",
    "        line = [str(key),\n",
    "                value[header[1]],\n",
    "                value[header[2]],\n",
    "               value[header[3]],\n",
    "               value[header[4]]]\n",
    "        \n",
    "        # write line to text file\n",
    "        writer.writerow(line)"
   ]
  }
 ],
 "metadata": {
  "kernelspec": {
   "display_name": "Python 3",
   "language": "python",
   "name": "python3"
  },
  "language_info": {
   "codemirror_mode": {
    "name": "ipython",
    "version": 3
   },
   "file_extension": ".py",
   "mimetype": "text/x-python",
   "name": "python",
   "nbconvert_exporter": "python",
   "pygments_lexer": "ipython3",
   "version": "3.7.10"
  }
 },
 "nbformat": 4,
 "nbformat_minor": 5
}
