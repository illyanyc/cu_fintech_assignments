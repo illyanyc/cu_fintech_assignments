{
 "cells": [
  {
   "cell_type": "markdown",
   "id": "olympic-basin",
   "metadata": {},
   "source": [
    "# PyBank Homework Activity"
   ]
  },
  {
   "cell_type": "markdown",
   "id": "prospective-garlic",
   "metadata": {},
   "source": [
    "Python script designed for analyzing the financial records of a company"
   ]
  },
  {
   "cell_type": "markdown",
   "id": "blind-fourth",
   "metadata": {},
   "source": [
    "---"
   ]
  },
  {
   "cell_type": "markdown",
   "id": "secure-execution",
   "metadata": {},
   "source": [
    "Load libraries:"
   ]
  },
  {
   "cell_type": "code",
   "execution_count": 1,
   "id": "sized-think",
   "metadata": {},
   "outputs": [],
   "source": [
    "import pandas as pd\n",
    "import csv\n",
    "from pathlib import Path"
   ]
  },
  {
   "cell_type": "markdown",
   "id": "bigger-stanford",
   "metadata": {},
   "source": [
    "Set file paths:"
   ]
  },
  {
   "cell_type": "code",
   "execution_count": 2,
   "id": "mobile-resident",
   "metadata": {},
   "outputs": [],
   "source": [
    "INPUT_FILENAME = Path(\"../../PyBank/Resources/budget_data.csv\")\n",
    "OUTPUT_FILENAME = Path(\"budget_data_result.txt\")"
   ]
  },
  {
   "cell_type": "markdown",
   "id": "acquired-singles",
   "metadata": {},
   "source": [
    "Load data into Panda Dataframe:"
   ]
  },
  {
   "cell_type": "code",
   "execution_count": 3,
   "id": "requested-choice",
   "metadata": {},
   "outputs": [
    {
     "data": {
      "text/html": [
       "<div>\n",
       "<style scoped>\n",
       "    .dataframe tbody tr th:only-of-type {\n",
       "        vertical-align: middle;\n",
       "    }\n",
       "\n",
       "    .dataframe tbody tr th {\n",
       "        vertical-align: top;\n",
       "    }\n",
       "\n",
       "    .dataframe thead th {\n",
       "        text-align: right;\n",
       "    }\n",
       "</style>\n",
       "<table border=\"1\" class=\"dataframe\">\n",
       "  <thead>\n",
       "    <tr style=\"text-align: right;\">\n",
       "      <th></th>\n",
       "      <th>Date</th>\n",
       "      <th>Profit/Losses</th>\n",
       "    </tr>\n",
       "  </thead>\n",
       "  <tbody>\n",
       "    <tr>\n",
       "      <th>0</th>\n",
       "      <td>Jan-2010</td>\n",
       "      <td>867884</td>\n",
       "    </tr>\n",
       "    <tr>\n",
       "      <th>1</th>\n",
       "      <td>Feb-2010</td>\n",
       "      <td>984655</td>\n",
       "    </tr>\n",
       "    <tr>\n",
       "      <th>2</th>\n",
       "      <td>Mar-2010</td>\n",
       "      <td>322013</td>\n",
       "    </tr>\n",
       "    <tr>\n",
       "      <th>3</th>\n",
       "      <td>Apr-2010</td>\n",
       "      <td>-69417</td>\n",
       "    </tr>\n",
       "    <tr>\n",
       "      <th>4</th>\n",
       "      <td>May-2010</td>\n",
       "      <td>310503</td>\n",
       "    </tr>\n",
       "  </tbody>\n",
       "</table>\n",
       "</div>"
      ],
      "text/plain": [
       "       Date  Profit/Losses\n",
       "0  Jan-2010         867884\n",
       "1  Feb-2010         984655\n",
       "2  Mar-2010         322013\n",
       "3  Apr-2010         -69417\n",
       "4  May-2010         310503"
      ]
     },
     "execution_count": 3,
     "metadata": {},
     "output_type": "execute_result"
    }
   ],
   "source": [
    "# intantiate path\n",
    "# replace path with your local path before running\n",
    "data_path = INPUT_FILENAME\n",
    "\n",
    "# write pd.DataFrame() from csv\n",
    "df = pd.read_csv(data_path)\n",
    "\n",
    "# preview the dataframe\n",
    "df.head()"
   ]
  },
  {
   "cell_type": "markdown",
   "id": "satellite-decision",
   "metadata": {},
   "source": [
    "## Methods"
   ]
  },
  {
   "cell_type": "markdown",
   "id": "aggressive-party",
   "metadata": {},
   "source": [
    "Instantiate methods used in computation:"
   ]
  },
  {
   "cell_type": "code",
   "execution_count": 4,
   "id": "unlike-solution",
   "metadata": {},
   "outputs": [],
   "source": [
    "# The total number of months included in the dataset.\n",
    "\n",
    "def get_total_months(df):\n",
    "    '''Return n months in dataset\n",
    "\n",
    "    Parameters\n",
    "    ----------\n",
    "    df : pd.DataFrame()\n",
    "\n",
    "    Returns\n",
    "    -------\n",
    "    n_rows : int\n",
    "        The total number of months included in the dataset:\n",
    "        Number of rows in pd.DataFrame corresponds to number months\n",
    "    '''\n",
    "\n",
    "    # clean up data : remove duplicate months\n",
    "    df.drop_duplicates(subset=\"Date\", inplace=True)\n",
    "    \n",
    "    # get shape of the dataframe\n",
    "    n_rows, n_cols = df.shape\n",
    "     \n",
    "    return n_rows\n",
    "\n",
    "# get_total_months(df)\n",
    "\n",
    "\n",
    "\n",
    "# The net total amount of Profit/Losses over the entire period.\n",
    "\n",
    "def get_total_pl(df):\n",
    "    '''Return sum of values Profil/Loss column in the dataset\n",
    "\n",
    "    Parameters\n",
    "    ----------\n",
    "    df : pd.DataFrame()\n",
    "\n",
    "    Returns\n",
    "    -------\n",
    "    pl_sum : float\n",
    "        The net total amount of Profit/Losses over the entire period\n",
    "    '''\n",
    "    \n",
    "    pl_sum = df[\"Profit/Losses\"].sum(axis = 0)\n",
    "    \n",
    "    return pl_sum\n",
    "\n",
    "# get_total_pl(df)\n",
    "\n",
    "\n",
    "\n",
    "# The average of the changes in Profit/Losses over the entire period.\n",
    "\n",
    "def get_avg_pl_change(df):\n",
    "    '''Return slope of the P/L line\n",
    "\n",
    "    Parameters\n",
    "    ----------\n",
    "    df : pd.DataFrame()\n",
    "\n",
    "    Returns\n",
    "    -------\n",
    "    avg_pl_change : float\n",
    "        The average of the changes in Profit/Losses over the entire period\n",
    "    '''\n",
    "    \n",
    "    # get slope of the P/L line\n",
    "    avg_pl_change = (df.iloc[-1,1] - df.iloc[0,1]) / (get_total_months(df)-1)\n",
    "    \n",
    "    return avg_pl_change\n",
    "\n",
    "# get_avg_pl_change(df)\n",
    "\n",
    "\n",
    "\n",
    "# The greatest increase in profits (date and amount) over the entire period.\n",
    "\n",
    "def get_minmax_delta_profits(df):\n",
    "    '''Return maximum increase and decrease in daily P/L\n",
    "\n",
    "    Parameters\n",
    "    ----------\n",
    "    df : pd.DataFrame()\n",
    "\n",
    "    Returns\n",
    "    -------\n",
    "    max_pl : nested dict\n",
    "        {}\n",
    "        The greatest increase and decrease in profits (date and amount) over the entire period.\n",
    "    '''\n",
    "    \n",
    "    # get daily profit delta, write as row in df\n",
    "    df[\"P/L_Delta\"] = df[\"Profit/Losses\"] - df[\"Profit/Losses\"].shift()\n",
    "    df.dropna()\n",
    "    \n",
    "    # get maximum value in the P/L_Delta column\n",
    "    max_pl = list(df.max())\n",
    "    \n",
    "    # get minimum value in the P/L_Delta column\n",
    "    min_pl = list(df.min()) \n",
    "    \n",
    "    # build result dictionary\n",
    "    result = {\"increase\" : {\"date\" : max_pl[0], \"value\" : max_pl[2]},\n",
    "             \"decrease\" : {\"date\" : min_pl[0], \"value\" : min_pl[2]}\n",
    "             }\n",
    "    \n",
    "    return result\n",
    "\n",
    "# get_minmax_delta_profits(df)"
   ]
  },
  {
   "cell_type": "markdown",
   "id": "modern-surname",
   "metadata": {},
   "source": [
    "## Results"
   ]
  },
  {
   "cell_type": "markdown",
   "id": "stock-runner",
   "metadata": {},
   "source": [
    "Compute Financial Analysis values and format values:"
   ]
  },
  {
   "cell_type": "code",
   "execution_count": 5,
   "id": "pleased-bradford",
   "metadata": {},
   "outputs": [],
   "source": [
    "total_months = get_total_months(df)\n",
    "total_pl = round(get_total_pl(df),0)\n",
    "avg_change = round(get_avg_pl_change(df),2)\n",
    "\n",
    "# get greatest increase and decrease in daily P/L\n",
    "minmax_delta_profits = get_minmax_delta_profits(df)\n",
    "max_pl_date = minmax_delta_profits[\"increase\"][\"date\"]\n",
    "max_pl = int(minmax_delta_profits[\"increase\"][\"value\"])\n",
    "min_pl_date = minmax_delta_profits[\"decrease\"][\"date\"]\n",
    "min_pl = int(minmax_delta_profits[\"decrease\"][\"value\"])"
   ]
  },
  {
   "cell_type": "markdown",
   "id": "satisfied-karaoke",
   "metadata": {},
   "source": [
    "Write final analysis report to text file:"
   ]
  },
  {
   "cell_type": "code",
   "execution_count": 8,
   "id": "hydraulic-funeral",
   "metadata": {},
   "outputs": [
    {
     "name": "stdout",
     "output_type": "stream",
     "text": [
      "Writing data to file: budget_data_result.txt\n"
     ]
    }
   ],
   "source": [
    "with open(OUTPUT_FILENAME, 'w', newline='') as file:\n",
    "    print(f\"Writing data to file: {OUTPUT_FILENAME}\")\n",
    "    \n",
    "    # write header\n",
    "    file.write(\"Financial Analysis\" + \"\\n\")\n",
    "    file.write(\"----------------------------\"+ \"\\n\")\n",
    "    \n",
    "    file.write(f\"Total Months: {total_months}\" + \"\\n\")\n",
    "    file.write(f\"Total: ${total_pl}\" + \"\\n\")\n",
    "    file.write(f\"Average  Change: ${avg_change}\" + \"\\n\")\n",
    "    file.write(f\"Greatest Increase in Profits: {max_pl_date} (${max_pl})\" + \"\\n\")\n",
    "    file.write(f\"Greatest Decrease in Profits: {min_pl_date} (${min_pl})\" + \"\\n\")"
   ]
  },
  {
   "cell_type": "markdown",
   "id": "continuing-fleece",
   "metadata": {},
   "source": [
    "Print resulting financial analysis:"
   ]
  },
  {
   "cell_type": "code",
   "execution_count": 7,
   "id": "stylish-courage",
   "metadata": {},
   "outputs": [
    {
     "name": "stdout",
     "output_type": "stream",
     "text": [
      "Financial Analysis\n",
      "----------------------------\n",
      "Total Months: 86\n",
      "Total: $38382578\n",
      "Average  Change: $-2315.12\n",
      "Greatest Increase in Profits: Sep-2016 ($1926159)\n",
      "Greatest Decrease in Profits: Apr-2010 ($-2196167)\n"
     ]
    }
   ],
   "source": [
    "# print header\n",
    "print(\"Financial Analysis\")\n",
    "print(\"----------------------------\")\n",
    "\n",
    "# print values\n",
    "print(f\"Total Months: {total_months}\")\n",
    "print(f\"Total: ${total_pl}\")\n",
    "print(f\"Average  Change: ${avg_change}\")\n",
    "print(f\"Greatest Increase in Profits: {max_pl_date} (${max_pl})\")\n",
    "print(f\"Greatest Decrease in Profits: {min_pl_date} (${min_pl})\")"
   ]
  }
 ],
 "metadata": {
  "kernelspec": {
   "display_name": "Python 3",
   "language": "python",
   "name": "python3"
  },
  "language_info": {
   "codemirror_mode": {
    "name": "ipython",
    "version": 3
   },
   "file_extension": ".py",
   "mimetype": "text/x-python",
   "name": "python",
   "nbconvert_exporter": "python",
   "pygments_lexer": "ipython3",
   "version": "3.7.10"
  }
 },
 "nbformat": 4,
 "nbformat_minor": 5
}
