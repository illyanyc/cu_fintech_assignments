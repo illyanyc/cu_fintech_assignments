{
 "cells": [
  {
   "cell_type": "markdown",
   "metadata": {},
   "source": [
    "# Unit 12 - Tales from the Crypto\n",
    "\n",
    "---\n"
   ]
  },
  {
   "cell_type": "markdown",
   "metadata": {},
   "source": [
    "## 1. Sentiment Analysis\n",
    "\n",
    "Use the [newsapi](https://newsapi.org/) to pull the latest news articles for Bitcoin and Ethereum and create a DataFrame of sentiment scores for each coin.\n",
    "\n",
    "Use descriptive statistics to answer the following questions:\n",
    "1. Which coin had the highest mean positive score?\n",
    "2. Which coin had the highest negative score?\n",
    "3. Which coin had the highest positive score?"
   ]
  },
  {
   "cell_type": "code",
   "execution_count": null,
   "metadata": {},
   "outputs": [],
   "source": [
    "# Initial imports\n",
    "import os\n",
    "import pandas as pd\n",
    "from dotenv import load_dotenv\n",
    "import nltk as nltk\n",
    "nltk.download('vader_lexicon')\n",
    "from nltk.sentiment.vader import SentimentIntensityAnalyzer\n",
    "analyzer = SentimentIntensityAnalyzer()\n",
    "\n",
    "%matplotlib inline"
   ]
  },
  {
   "cell_type": "code",
   "execution_count": null,
   "metadata": {},
   "outputs": [],
   "source": [
    "# Read your api key environment variable\n",
    "load_dotenv(\"../../resources/api_keys.env\")\n",
    "newsapi_key = os.getenv(\"NEWSAPI_API_KEY\")\n",
    "print(f\"NewsAPI API Key Type : {type(newsapi_key)}\")"
   ]
  },
  {
   "cell_type": "code",
   "execution_count": null,
   "metadata": {},
   "outputs": [],
   "source": [
    "# Create a newsapi client\n",
    "from newsapi import NewsApiClient\n",
    "newsapi = NewsApiClient(api_key=newsapi_key)"
   ]
  },
  {
   "cell_type": "code",
   "execution_count": null,
   "metadata": {},
   "outputs": [],
   "source": [
    "# Fetch the Bitcoin news articles \n",
    "article_n = 20 #100 maximum allowed by free NewsAPI account\n",
    "pages = int(article_n / 20)\n",
    "btc_news = []\n",
    "\n",
    "# Get 5 pages of articles (100 articles)\n",
    "for i in list(range(1,pages+1)):\n",
    "    articles = newsapi.get_everything(q='bitcoin', language='en', page=i)['articles']\n",
    "    btc_news.append(articles)\n",
    "\n",
    "btc_corpus = [y for x in btc_news for y in x]\n",
    "\n",
    "print(f\"Total articles about Bitcoin: {len(btc_corpus)}\")"
   ]
  },
  {
   "cell_type": "code",
   "execution_count": null,
   "metadata": {},
   "outputs": [],
   "source": [
    "# Fetch the Bitcoin news articles \n",
    "article_n = 20 #100 maximum allowed by free NewsAPI account\n",
    "pages = int(article_n / 20)\n",
    "eth_news = []\n",
    "\n",
    "# Get 5 pages of articles (100 articles)\n",
    "for i in list(range(1,pages+1)):\n",
    "    articles = newsapi.get_everything(q='ethereum', language='en', page=i)['articles']\n",
    "    eth_news.append(articles)\n",
    "\n",
    "eth_corpus = [y for x in eth_news for y in x]\n",
    "\n",
    "print(f\"Total articles about Ethereum: {len(eth_corpus)}\")"
   ]
  },
  {
   "cell_type": "code",
   "execution_count": null,
   "metadata": {},
   "outputs": [],
   "source": [
    "# Initialize the VADER sentiment analyzer\n",
    "btc_analyzer = SentimentIntensityAnalyzer()\n",
    "\n",
    "# Create the Bitcoin sentiment scores DataFrame\n",
    "btc_sentiment = []\n",
    "\n",
    "for article in btc_corpus:\n",
    "    try:\n",
    "        text = article['content']\n",
    "        date = article['publishedAt']\n",
    "        \n",
    "        sentiment = btc_analyzer.polarity_scores(text)\n",
    "        compound = sentiment['compound']\n",
    "        pos = sentiment['pos']\n",
    "        neu = sentiment['neu']\n",
    "        neg = sentiment['neg']\n",
    "        \n",
    "        btc_sentiment.append({\n",
    "            'date' : date,\n",
    "            'text' : text,\n",
    "            'compound' : compound,\n",
    "            'positive' : pos,\n",
    "            'negative' : neg,\n",
    "            'neutral' : neu\n",
    "        })\n",
    "        \n",
    "    except AttributeError:\n",
    "        print('error')\n",
    "    \n",
    "btc_df = pd.DataFrame(btc_sentiment)\n",
    "btc_df.head()"
   ]
  },
  {
   "cell_type": "code",
   "execution_count": null,
   "metadata": {},
   "outputs": [],
   "source": [
    "len(btc_df.index)"
   ]
  },
  {
   "cell_type": "code",
   "execution_count": null,
   "metadata": {},
   "outputs": [],
   "source": [
    "# Initiate VADER sentiment analyzer\n",
    "eth_analyzer = SentimentIntensityAnalyzer()\n",
    "\n",
    "# Create the Ethereum sentiment scores DataFrame\n",
    "eth_sentiment = []\n",
    "\n",
    "for article in eth_corpus:\n",
    "    try:\n",
    "        text = article['content']\n",
    "        date = article['publishedAt']\n",
    "        \n",
    "        sentiment = eth_analyzer.polarity_scores(text)\n",
    "        compound = sentiment['compound']\n",
    "        pos = sentiment['pos']\n",
    "        neg = sentiment['neg']\n",
    "        neu = sentiment['neu']\n",
    "        \n",
    "        eth_sentiment.append({\n",
    "            'date' : date,\n",
    "            'text' : text,\n",
    "            'compound' : compound,\n",
    "            'positive' : pos,\n",
    "            'negative' : neg,\n",
    "            'neutral' : neu\n",
    "        })\n",
    "        \n",
    "    except AttributeError:\n",
    "        pass\n",
    "    \n",
    "eth_df = pd.DataFrame(eth_sentiment)\n",
    "eth_df.head()"
   ]
  },
  {
   "cell_type": "code",
   "execution_count": null,
   "metadata": {},
   "outputs": [],
   "source": [
    "# Describe the Bitcoin Sentiment\n",
    "btc_df.describe().round(3)"
   ]
  },
  {
   "cell_type": "code",
   "execution_count": null,
   "metadata": {},
   "outputs": [],
   "source": [
    "# Describe the Ethereum Sentiment\n",
    "eth_df.describe().round(3)"
   ]
  },
  {
   "cell_type": "markdown",
   "metadata": {},
   "source": [
    "### Questions:\n",
    "\n",
    "Q: Which coin had the highest mean positive score?\n",
    "\n",
    "A: **BTC has the highest mean + score : 0.09**\n",
    "\n",
    "Q: Which coin had the highest compound score?\n",
    "\n",
    "A: **BTC has the highest compound score : 0.25**\n",
    "\n",
    "Q. Which coin had the highest positive score?\n",
    "\n",
    "A: **BTC has the highest positive score : 0.28**"
   ]
  },
  {
   "cell_type": "markdown",
   "metadata": {},
   "source": [
    "---"
   ]
  },
  {
   "cell_type": "markdown",
   "metadata": {},
   "source": [
    "## 2. Natural Language Processing\n",
    "---\n",
    "###   Tokenizer\n",
    "\n",
    "In this section, you will use NLTK and Python to tokenize the text for each coin. Be sure to:\n",
    "1. Lowercase each word.\n",
    "2. Remove Punctuation.\n",
    "3. Remove Stopwords."
   ]
  },
  {
   "cell_type": "code",
   "execution_count": null,
   "metadata": {},
   "outputs": [],
   "source": [
    "from nltk.tokenize import word_tokenize, sent_tokenize\n",
    "nltk.download('stopwords')\n",
    "from nltk.corpus import stopwords\n",
    "from nltk.stem import WordNetLemmatizer, PorterStemmer\n",
    "nltk.download('punkt')\n",
    "nltk.download('wordnet')\n",
    "\n",
    "from string import punctuation\n",
    "import re"
   ]
  },
  {
   "cell_type": "code",
   "execution_count": null,
   "metadata": {},
   "outputs": [],
   "source": [
    "# Instantiate the lemmatizer\n",
    "lemmatizer = WordNetLemmatizer()\n",
    "\n",
    "# Create a list of stopwords\n",
    "sw = set(stopwords.words('english'))\n",
    "\n",
    "# Expand the default stopwords list if necessary\n",
    "custom_sw = ['char','tec','inc','say','via','bos']"
   ]
  },
  {
   "cell_type": "code",
   "execution_count": null,
   "metadata": {},
   "outputs": [],
   "source": [
    "# Complete the tokenizer function\n",
    "def tokenizer(text):\n",
    "    \"\"\"Tokenizes text.\"\"\"\n",
    "    \n",
    "    # Remove the punctuation from text\n",
    "    regex = re.compile(\"[^a-zA-Z ]\")\n",
    "    re_clean = regex.sub('', text)\n",
    "    \n",
    "    # Create a tokenized list of the words\n",
    "    words = word_tokenize(re_clean)\n",
    "    \n",
    "    # Lemmatize words into root words\n",
    "    lem = [lemmatizer.lemmatize(word) for word in words]\n",
    "   \n",
    "    # Convert the words to lowercase\n",
    "    lem_lower = [word.lower() for word in lem]\n",
    "    \n",
    "    # Remove the stop words\n",
    "    tokens_sw = [word for word in lem_lower if word not in sw]\n",
    "    \n",
    "    # Remove custom stop words\n",
    "    tokens_csw = [word for word in tokens_sw if word not in custom_sw]\n",
    "    \n",
    "    # Remove all words less than 3 chars long\n",
    "    tokens = [word for word in tokens_csw if len(word) > 2]\n",
    "    \n",
    "    return tokens"
   ]
  },
  {
   "cell_type": "code",
   "execution_count": null,
   "metadata": {},
   "outputs": [],
   "source": [
    "# Create a new tokens column for Bitcoin\n",
    "btc_df['tokens'] = [tokenizer(text) for text in btc_df['text']]\n",
    "\n",
    "# Clean up articles returning blank str for text\n",
    "btc_df.replace(\"\", float(\"NaN\"), inplace=True)\n",
    "btc_df.dropna(subset=[\"text\"], inplace=True)\n",
    "print(f\"Total articles about Bitcoin remaining: {len(btc_df)}\")"
   ]
  },
  {
   "cell_type": "code",
   "execution_count": null,
   "metadata": {},
   "outputs": [],
   "source": [
    "btc_df.head()"
   ]
  },
  {
   "cell_type": "code",
   "execution_count": null,
   "metadata": {},
   "outputs": [],
   "source": [
    "# Create a new tokens column for Ethereum\n",
    "eth_df['tokens'] = [tokenizer(text) for text in eth_df['text']]\n",
    "\n",
    "# Clean up articles returning blank str for text\n",
    "eth_df.replace(\"\", float(\"NaN\"), inplace=True)\n",
    "eth_df.dropna(subset=[\"text\"], inplace=True)\n",
    "print(f\"Total articles about Ethereum remaining: {len(eth_df)}\")"
   ]
  },
  {
   "cell_type": "code",
   "execution_count": null,
   "metadata": {},
   "outputs": [],
   "source": [
    "eth_df.head()"
   ]
  },
  {
   "cell_type": "markdown",
   "metadata": {},
   "source": [
    "---"
   ]
  },
  {
   "cell_type": "markdown",
   "metadata": {},
   "source": [
    "### NGrams and Frequency Analysis\n",
    "\n",
    "In this section you will look at the ngrams and word frequency for each coin. \n",
    "\n",
    "1. Use NLTK to produce the n-grams for N = 2. \n",
    "2. List the top 10 words for each coin. "
   ]
  },
  {
   "cell_type": "code",
   "execution_count": null,
   "metadata": {},
   "outputs": [],
   "source": [
    "from collections import Counter\n",
    "from nltk import ngrams"
   ]
  },
  {
   "cell_type": "code",
   "execution_count": null,
   "metadata": {},
   "outputs": [],
   "source": [
    "# Generate the Bitcoin N-grams where N=2\n",
    "btc_li = [y for x in btc_df['tokens'] for y in x]"
   ]
  },
  {
   "cell_type": "code",
   "execution_count": null,
   "metadata": {},
   "outputs": [],
   "source": [
    "btc_grams = ngrams(btc_li, n=2)"
   ]
  },
  {
   "cell_type": "code",
   "execution_count": null,
   "metadata": {},
   "outputs": [],
   "source": [
    "# Generate the Ethereum N-grams where N=2\n",
    "eth_li = [y for x in eth_df['tokens'] for y in x]"
   ]
  },
  {
   "cell_type": "code",
   "execution_count": null,
   "metadata": {},
   "outputs": [],
   "source": [
    "eth_grams = ngrams(eth_li, n=2)"
   ]
  },
  {
   "cell_type": "code",
   "execution_count": null,
   "metadata": {},
   "outputs": [],
   "source": [
    "# Function token_count generates the top 10 words for a given coin\n",
    "def token_count(tokens, N : int=10):\n",
    "    \"\"\"Returns the top N tokens from the frequency count\"\"\"\n",
    "    \n",
    "    top = dict(Counter(tokens).most_common(N))\n",
    "    return pd.DataFrame(list(top.items()), columns=['tokens', 'count'])"
   ]
  },
  {
   "cell_type": "code",
   "execution_count": null,
   "metadata": {},
   "outputs": [],
   "source": [
    "# Use token_count to get the top 10 words for Bitcoin\n",
    "token_count(btc_grams,10)"
   ]
  },
  {
   "cell_type": "code",
   "execution_count": null,
   "metadata": {},
   "outputs": [],
   "source": [
    "# Use token_count to get the top 10 words for Ethereum\n",
    "token_count(eth_grams,10)"
   ]
  },
  {
   "cell_type": "markdown",
   "metadata": {},
   "source": [
    "---"
   ]
  },
  {
   "cell_type": "markdown",
   "metadata": {},
   "source": [
    "### Word Clouds\n",
    "\n",
    "In this section, you will generate word clouds for each coin to summarize the news for each coin"
   ]
  },
  {
   "cell_type": "code",
   "execution_count": null,
   "metadata": {},
   "outputs": [],
   "source": [
    "from wordcloud import WordCloud\n",
    "import matplotlib.pyplot as plt\n",
    "plt.style.use('seaborn-whitegrid')\n",
    "import matplotlib as mpl\n",
    "mpl.rcParams['figure.figsize'] = [20.0, 10.0]"
   ]
  },
  {
   "cell_type": "code",
   "execution_count": null,
   "metadata": {},
   "outputs": [],
   "source": [
    "# Generate the Bitcoin word cloud\n",
    "btc_li_bigstring = ' '.join(btc_li)\n",
    "btc_wc = WordCloud(width=1600, height=800).generate(btc_li_bigstring)\n",
    "plt.axis('off')\n",
    "plt.imshow(btc_wc)\n",
    "plt.savefig('img/btc_wc.png')"
   ]
  },
  {
   "cell_type": "code",
   "execution_count": null,
   "metadata": {},
   "outputs": [],
   "source": [
    "# Generate the Ethereum word cloud\n",
    "eth_li_bigstring = ' '.join(eth_li)\n",
    "eth_wc = WordCloud(width=1500, height=800).generate(eth_li_bigstring)\n",
    "plt.axis('off')\n",
    "plt.imshow(eth_wc)\n",
    "plt.savefig('img/eth_wc.png')"
   ]
  },
  {
   "cell_type": "markdown",
   "metadata": {},
   "source": [
    "---\n",
    "## 3. Named Entity Recognition\n",
    "\n",
    "In this section, you will build a named entity recognition model for both Bitcoin and Ethereum, then visualize the tags using SpaCy."
   ]
  },
  {
   "cell_type": "code",
   "execution_count": null,
   "metadata": {},
   "outputs": [],
   "source": [
    "import spacy\n",
    "from spacy import displacy"
   ]
  },
  {
   "cell_type": "code",
   "execution_count": null,
   "metadata": {},
   "outputs": [],
   "source": [
    "# Download the language model for SpaCy\n",
    "# !python -m spacy download en_core_web_sm"
   ]
  },
  {
   "cell_type": "code",
   "execution_count": null,
   "metadata": {},
   "outputs": [],
   "source": [
    "# Load the spaCy model\n",
    "nlp = spacy.load('en_core_web_sm')"
   ]
  },
  {
   "cell_type": "markdown",
   "metadata": {},
   "source": [
    "---\n",
    "### Bitcoin NER"
   ]
  },
  {
   "cell_type": "code",
   "execution_count": null,
   "metadata": {},
   "outputs": [],
   "source": [
    "def replace_multiple(string, rep_list):\n",
    "    for term in rep_list:\n",
    "        string = string.replace(term, ' ')\n",
    "    return string\n",
    "\n",
    "rep_list = ['\\r','\\n','\\xa0','[', ']','+','chars','-','\\\\']"
   ]
  },
  {
   "cell_type": "code",
   "execution_count": null,
   "metadata": {},
   "outputs": [],
   "source": [
    "# Concatenate all of the Bitcoin text together\n",
    "btc_text = ' '.join([text for text in btc_df['text']])\n",
    "btc_text = replace_multiple(btc_text,rep_list)"
   ]
  },
  {
   "cell_type": "code",
   "execution_count": null,
   "metadata": {},
   "outputs": [],
   "source": [
    "# Run the NER processor on all of the text\n",
    "btc_doc = nlp(btc_text)\n",
    "\n",
    "# Add a title to the document\n",
    "# YOUR CODE HERE!"
   ]
  },
  {
   "cell_type": "code",
   "execution_count": null,
   "metadata": {},
   "outputs": [],
   "source": [
    "# Render the visualization\n",
    "displacy.render(btc_doc, style='ent')"
   ]
  },
  {
   "cell_type": "code",
   "execution_count": null,
   "metadata": {},
   "outputs": [],
   "source": [
    "# List all Entities\n",
    "print([ent.text for ent in btc_doc.ents])"
   ]
  },
  {
   "cell_type": "markdown",
   "metadata": {},
   "source": [
    "---"
   ]
  },
  {
   "cell_type": "markdown",
   "metadata": {},
   "source": [
    "### Ethereum NER"
   ]
  },
  {
   "cell_type": "code",
   "execution_count": null,
   "metadata": {},
   "outputs": [],
   "source": [
    "# Concatenate all of the Ethereum text together\n",
    "eth_text = ' '.join([text for text in eth_df['text']])\n",
    "eth_text = replace_multiple(eth_text,rep_list)"
   ]
  },
  {
   "cell_type": "code",
   "execution_count": null,
   "metadata": {},
   "outputs": [],
   "source": [
    "# Run the NER processor on all of the text\n",
    "eth_doc = nlp(eth_text)\n",
    "\n",
    "# Add a title to the document\n",
    "# YOUR CODE HERE!"
   ]
  },
  {
   "cell_type": "code",
   "execution_count": null,
   "metadata": {},
   "outputs": [],
   "source": [
    "# Render the visualization\n",
    "displacy.render(eth_doc, style='ent')"
   ]
  },
  {
   "cell_type": "code",
   "execution_count": null,
   "metadata": {},
   "outputs": [],
   "source": [
    "# List all Entities\n",
    "print([ent.text for ent in eth_doc.ents])"
   ]
  },
  {
   "cell_type": "markdown",
   "metadata": {},
   "source": [
    "---"
   ]
  }
 ],
 "metadata": {
  "file_extension": ".py",
  "kernelspec": {
   "display_name": "Python 3",
   "language": "python",
   "name": "python3"
  },
  "language_info": {
   "codemirror_mode": {
    "name": "ipython",
    "version": 3
   },
   "file_extension": ".py",
   "mimetype": "text/x-python",
   "name": "python",
   "nbconvert_exporter": "python",
   "pygments_lexer": "ipython3",
   "version": "3.8.10"
  },
  "mimetype": "text/x-python",
  "name": "python",
  "npconvert_exporter": "python",
  "pygments_lexer": "ipython3",
  "version": 3
 },
 "nbformat": 4,
 "nbformat_minor": 4
}
