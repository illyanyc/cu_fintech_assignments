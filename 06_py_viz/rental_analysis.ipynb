{
 "cells": [
  {
   "cell_type": "markdown",
   "metadata": {},
   "source": [
    "# San Francisco Housing Cost Analysis\n",
    "\n",
    "In this assignment, you will perform fundamental analysis for the San Francisco housing market to allow potential real estate investors to choose rental investment properties."
   ]
  },
  {
   "cell_type": "code",
   "execution_count": null,
   "metadata": {},
   "outputs": [],
   "source": [
    "# imports\n",
    "import panel as pn\n",
    "pn.extension('plotly')\n",
    "\n",
    "import plotly.express as px\n",
    "import pandas as pd\n",
    "import hvplot.pandas\n",
    "import matplotlib.pyplot as plt\n",
    "import numpy as np\n",
    "import os\n",
    "from pathlib import Path\n",
    "from dotenv import load_dotenv\n",
    "\n",
    "import warnings\n",
    "warnings.filterwarnings('ignore')"
   ]
  },
  {
   "cell_type": "code",
   "execution_count": null,
   "metadata": {},
   "outputs": [],
   "source": [
    "# Read the Mapbox API key\n",
    "load_dotenv(\"../../../resources/mapbox_keys.env\")\n",
    "map_token = os.getenv(\"mapbox\")\n",
    "type(map_token)"
   ]
  },
  {
   "cell_type": "markdown",
   "metadata": {},
   "source": [
    "## Load Data"
   ]
  },
  {
   "cell_type": "code",
   "execution_count": null,
   "metadata": {},
   "outputs": [],
   "source": [
    "# Read the census data into a Pandas DataFrame\n",
    "sfo_data_filepath = Path(\"data/sfo_neighborhoods_census_data.csv\")\n",
    "sfo_data = pd.read_csv(sfo_data_filepath, index_col=\"year\")\n",
    "sfo_data"
   ]
  },
  {
   "cell_type": "markdown",
   "metadata": {},
   "source": [
    "- - - "
   ]
  },
  {
   "cell_type": "markdown",
   "metadata": {},
   "source": [
    "## Housing Units Per Year\n",
    "\n",
    "In this section, you will calculate the number of housing units per year and visualize the results as a bar chart using the Pandas plot function.\n",
    "\n",
    "**Hint:** Use the Pandas `groupby` function.\n",
    "\n",
    "**Optional challenge:** Use the min, max, and std to scale the y limits of the chart.\n",
    "\n"
   ]
  },
  {
   "cell_type": "code",
   "execution_count": null,
   "metadata": {},
   "outputs": [],
   "source": [
    "# Calculate the mean number of housing units per year (hint: use groupby)\n",
    "sfo_data_grouped_year = sfo_data.groupby(['year'])\n",
    "sfo_data_mean_units = sfo_data_grouped_year['housing_units'].mean()\n",
    "sfo_data_mean_units"
   ]
  },
  {
   "cell_type": "code",
   "execution_count": null,
   "metadata": {},
   "outputs": [],
   "source": [
    "# Save the dataframe as a csv file\n",
    "sfo_data.to_csv(\"sfo_data.csv\")\n",
    "sfo_data_mean_units.to_csv(\"sfo_data_mean_units.csv\")"
   ]
  },
  {
   "cell_type": "code",
   "execution_count": null,
   "metadata": {},
   "outputs": [],
   "source": [
    "# Use the Pandas plot function to plot the average housing units per year.\n",
    "ax1 = sfo_data_mean_units.plot.bar(title=\"SF Mean Number of Housing Units Per Year (manual y-axis)\")\n",
    "ax1.set_ylim(360000, 388000)"
   ]
  },
  {
   "cell_type": "code",
   "execution_count": null,
   "metadata": {},
   "outputs": [],
   "source": [
    "# Optional Challenge: Use the min, max, and std to scale the y limits of the chart\n",
    "ax2 = sfo_data_mean_units.plot.bar(title=\"SF Mean Number of Housing Units Per Year (auto y-axis)\")\n",
    "bottom_lim = int(sfo_data_mean_units.min() - sfo_data_mean_units.std())\n",
    "top_lim = int(sfo_data_mean_units.max() + sfo_data_mean_units.std())\n",
    "ax2.set_ylim(bottom_lim, top_lim)"
   ]
  },
  {
   "cell_type": "markdown",
   "metadata": {},
   "source": [
    "- - - "
   ]
  },
  {
   "cell_type": "markdown",
   "metadata": {},
   "source": [
    "## Average Housing Costs in San Francisco Per Year\n",
    "\n",
    "In this section, you will calculate the average monthly rent and the average price per square foot for each year. An investor may wish to better understand the sales price of the rental property over time. For example, a customer will want to know if they should expect an increase or decrease in the property value over time so they can determine how long to hold the rental property.  Plot the results as two line charts.\n",
    "\n",
    "**Optional challenge:** Plot each line chart in a different color."
   ]
  },
  {
   "cell_type": "code",
   "execution_count": null,
   "metadata": {},
   "outputs": [],
   "source": [
    "# Calculate the average sale price per square foot and average gross rent\n",
    "gross_rent = sfo_data_grouped_year['gross_rent'].mean()\n",
    "sale_price_sqr_foot = sfo_data.groupby(['year'])['sale_price_sqr_foot'].mean()\n",
    "aggregate_data = pd.concat([gross_rent, sale_price_sqr_foot], axis='columns', join='inner')\n",
    "aggregate_data"
   ]
  },
  {
   "cell_type": "code",
   "execution_count": null,
   "metadata": {},
   "outputs": [],
   "source": [
    "# Create two line charts, one to plot the average sale price per square foot and another for average montly rent\n",
    "fig, axs = plt.subplots(ncols=2, figsize=(10, 4))\n",
    "\n",
    "# Line chart for average sale price per square foot\n",
    "ax3 = sale_price_sqr_foot.plot(color='purple', title='Average Sale Price by Year', ax=axs[0])\n",
    "ax3.set_ylabel('Price per Sqft')\n",
    "ax3.set_xlabel('Year')\n",
    "\n",
    "# Line chart for average montly rent\n",
    "ax4 = gross_rent.plot(color='red', title='Average Gross Rent by Year', ax=axs[1])\n",
    "ax4.set_ylabel('Price per Sqft')\n",
    "ax4.set_xlabel('Year')"
   ]
  },
  {
   "cell_type": "markdown",
   "metadata": {},
   "source": [
    "- - - "
   ]
  },
  {
   "cell_type": "markdown",
   "metadata": {},
   "source": [
    "## Average Prices by Neighborhood\n",
    "\n",
    "In this section, you will use hvplot to create two interactive visulizations of average prices with a dropdown selector for the neighborhood. The first visualization will be a line plot showing the trend of average price per square foot over time for each neighborhood.  The second will be a line plot showing the trend of average montly rent over time for each neighborhood.\n",
    "\n",
    "**Hint:** It will be easier to create a new DataFrame from grouping the data and calculating the mean prices for each year and neighborhood"
   ]
  },
  {
   "cell_type": "code",
   "execution_count": null,
   "metadata": {},
   "outputs": [],
   "source": [
    "# Group by year and neighborhood and then create a new dataframe of the mean values\n",
    "sfo_data_year_hood = sfo_data.groupby(['year','neighborhood']).mean()\n",
    "sfo_data_year_hood"
   ]
  },
  {
   "cell_type": "code",
   "execution_count": null,
   "metadata": {},
   "outputs": [],
   "source": [
    "# Use hvplot to create an interactive line chart of the average price per sq ft.\n",
    "# The plot should have a dropdown selector for the neighborhood\n",
    "sfo_data_year_hood_plot = sfo_data_year_hood.hvplot.line(x='year', y='sale_price_sqr_foot', groupby='neighborhood', ylabel='Avg. Sale Price per Square Foot')\n",
    "sfo_data_year_hood_plot"
   ]
  },
  {
   "cell_type": "code",
   "execution_count": null,
   "metadata": {},
   "outputs": [],
   "source": [
    "# Use hvplot to create an interactive line chart of the average monthly rent.\n",
    "# The plot should have a dropdown selector for the neighborhood\n",
    "sfo_data_year_hood_plot = sfo_data_year_hood.hvplot.line(x='year', y='gross_rent', groupby='neighborhood', ylabel='Avg. Gross Rent per Square Foot')\n",
    "sfo_data_year_hood_plot"
   ]
  },
  {
   "cell_type": "markdown",
   "metadata": {},
   "source": [
    "## The Top 10 Most Expensive Neighborhoods\n",
    "\n",
    "In this section, you will need to calculate the mean sale price per square foot for each neighborhood and then sort the values to obtain the top 10 most expensive neighborhoods on average. Plot the results as a bar chart."
   ]
  },
  {
   "cell_type": "code",
   "execution_count": null,
   "metadata": {},
   "outputs": [],
   "source": [
    "# Getting the data from the top 10 expensive neighborhoods to own (by sale price)\n",
    "sfo_data_max10 = sfo_data.groupby(['neighborhood']).mean().nlargest(10,'sale_price_sqr_foot')\n",
    "sfo_data_max10"
   ]
  },
  {
   "cell_type": "code",
   "execution_count": null,
   "metadata": {},
   "outputs": [],
   "source": [
    "# Plotting the data from the top 10 expensive neighborhoods\n",
    "sfo_data_max10_plot = sfo_data_max10['sale_price_sqr_foot'].plot.bar(rot=90, title='Top 10 Expensive Neightborhoods in SFO', ylabel='Avg. SAle Price Per Square Foot')"
   ]
  },
  {
   "cell_type": "markdown",
   "metadata": {},
   "source": [
    "- - - "
   ]
  },
  {
   "cell_type": "markdown",
   "metadata": {},
   "source": [
    "## Comparing cost to purchase versus rental income\n",
    "\n",
    "In this section, you will use `hvplot` to create an interactive visualization with a dropdown selector for the neighborhood. This visualization will feature a side-by-side comparison of average price per square foot versus average montly rent by year.  \n",
    "\n",
    "**Hint:** Use the `hvplot` parameter, `groupby`, to create a dropdown selector for the neighborhood."
   ]
  },
  {
   "cell_type": "code",
   "execution_count": null,
   "metadata": {},
   "outputs": [],
   "source": [
    "# Fetch the previously generated DataFrame that was grouped by year and neighborhood\n",
    "sfo_data_year_hood"
   ]
  },
  {
   "cell_type": "code",
   "execution_count": null,
   "metadata": {},
   "outputs": [],
   "source": [
    "# Plotting the data from the top 10 expensive neighborhoods\n",
    "sfo_data_top10_year_hood_plot = sfo_data_year_hood.hvplot.bar(x='year', y=['sale_price_sqr_foot','gross_rent'], groupby='neighborhood', ylabel='Num. Housing Units', rot=90, color=['red','blue'], height=500)\n",
    "sfo_data_top10_year_hood_plot"
   ]
  },
  {
   "cell_type": "markdown",
   "metadata": {},
   "source": [
    "- - - "
   ]
  },
  {
   "cell_type": "markdown",
   "metadata": {},
   "source": [
    "## Neighborhood Map\n",
    "\n",
    "In this section, you will read in neighborhoods location data and build an interactive map with the average house value per neighborhood. Use a `scatter_mapbox` from Plotly express to create the visualization. Remember, you will need your Mapbox API key for this."
   ]
  },
  {
   "cell_type": "markdown",
   "metadata": {},
   "source": [
    "### Load Location Data"
   ]
  },
  {
   "cell_type": "code",
   "execution_count": null,
   "metadata": {},
   "outputs": [],
   "source": [
    "# Load neighborhoods coordinates data\n",
    "loc_data_filepath = Path(\"data/neighborhoods_coordinates.csv\")\n",
    "loc_data = pd.read_csv(loc_data_filepath).set_index('Neighborhood')\n",
    "loc_data.head()"
   ]
  },
  {
   "cell_type": "markdown",
   "metadata": {},
   "source": [
    "### Data Preparation\n",
    "\n",
    "You will need to join the location data with the mean values per neighborhood.\n",
    "\n",
    "1. Calculate the mean values for each neighborhood.\n",
    "\n",
    "2. Join the average values with the neighborhood locations."
   ]
  },
  {
   "cell_type": "code",
   "execution_count": null,
   "metadata": {},
   "outputs": [],
   "source": [
    "# Calculate the mean values for each neighborhood\n",
    "mean_data = sfo_data.groupby(['neighborhood']).mean()\n",
    "mean_data.head()"
   ]
  },
  {
   "cell_type": "code",
   "execution_count": null,
   "metadata": {},
   "outputs": [],
   "source": [
    "# Join the average values with the neighborhood locations\n",
    "mean_data_loc = pd.concat([mean_data, loc_data], axis='columns', join='inner')\n",
    "mean_data_loc.head()"
   ]
  },
  {
   "cell_type": "markdown",
   "metadata": {},
   "source": [
    "### Mapbox Visualization\n",
    "\n",
    "Plot the average values per neighborhood using a Plotly express `scatter_mapbox` visualization."
   ]
  },
  {
   "cell_type": "code",
   "execution_count": null,
   "metadata": {},
   "outputs": [],
   "source": [
    "# Set the mapbox access token\n",
    "px.set_mapbox_access_token(map_token)\n",
    "\n",
    "# Create a scatter mapbox to analyze neighborhood info\n",
    "mapbox_plot = px.scatter_mapbox(\n",
    "    mean_data_loc,\n",
    "    lat=\"Lat\",\n",
    "    lon=\"Lon\",\n",
    "    size=\"sale_price_sqr_foot\",\n",
    "    color=\"gross_rent\",\n",
    "    zoom = 10)\n",
    "\n",
    "\n",
    "mapbox_plot.show()"
   ]
  },
  {
   "cell_type": "markdown",
   "metadata": {},
   "source": [
    "- - -"
   ]
  },
  {
   "cell_type": "markdown",
   "metadata": {},
   "source": [
    "## Cost Analysis - Optional Challenge\n",
    "\n",
    "In this section, you will use Plotly express to create visualizations that investors can use to interactively filter and explore various factors related to the house value of the San Francisco's neighborhoods. \n",
    "\n",
    "### Create a DataFrame showing the most expensive neighborhoods in San Francisco by year"
   ]
  },
  {
   "cell_type": "code",
   "execution_count": null,
   "metadata": {},
   "outputs": [],
   "source": [
    "# Fetch the data from all expensive neighborhoods per year.\n",
    "df_expensive_neighborhoods_per_year = sfo_data[sfo_data[\"neighborhood\"].isin(sfo_data_max10.reset_index()[\"neighborhood\"])]\n",
    "df_expensive_neighborhoods_per_year.head()"
   ]
  },
  {
   "cell_type": "markdown",
   "metadata": {},
   "source": [
    "### Create a parallel coordinates plot and parallel categories plot of most expensive neighborhoods in San Francisco per year\n"
   ]
  },
  {
   "cell_type": "code",
   "execution_count": null,
   "metadata": {},
   "outputs": [],
   "source": [
    "# Parallel Categories Plot\n",
    "plot_1 = px.parallel_coordinates(df_expensive_neighborhoods_per_year.reset_index(), \n",
    "                                 color='year', \n",
    "                                 title = 'San Francisco Housing Market',\n",
    "                                 labels = {\n",
    "                                     'year' : 'Year',\n",
    "                                     'neighborhood' : 'Neighborhood',\n",
    "                                     'sale_price_sqr_foot' : '$ per Sq. Foot',\n",
    "                                     'housing_units' : 'Housing Units',\n",
    "                                     'gross_rent' : 'Gross Rent'\n",
    "                                 })\n",
    "plot_1"
   ]
  },
  {
   "cell_type": "code",
   "execution_count": null,
   "metadata": {},
   "outputs": [],
   "source": [
    "# Parallel Coordinates Plot\n",
    "plot_2 = px.parallel_categories(df_expensive_neighborhoods_per_year.reset_index(), \n",
    "                                 color='year', \n",
    "                                 title = 'San Francisco Most Expensive Neighborhoods',\n",
    "                                 labels = {\n",
    "                                     'year' : 'Year',\n",
    "                                     'neighborhood' : 'Neighborhood',\n",
    "                                     'sale_price_sqr_foot' : '$ per Sq. Foot',\n",
    "                                     'housing_units' : 'Housing Units',\n",
    "                                     'gross_rent' : 'Gross Rent'\n",
    "                                 })\n",
    "plot_2"
   ]
  },
  {
   "cell_type": "markdown",
   "metadata": {},
   "source": [
    "### Create a sunburst chart to conduct a costs analysis of most expensive neighborhoods in San Francisco per year"
   ]
  },
  {
   "cell_type": "code",
   "execution_count": null,
   "metadata": {},
   "outputs": [],
   "source": [
    "# Sunburst Plot\n",
    "plot_3 = px.sunburst(\n",
    "    df_expensive_neighborhoods_per_year.reset_index(),\n",
    "    path=['year','neighborhood'], \n",
    "    values='sale_price_sqr_foot')\n",
    "\n",
    "plot_3"
   ]
  },
  {
   "cell_type": "code",
   "execution_count": null,
   "metadata": {},
   "outputs": [],
   "source": []
  }
 ],
 "metadata": {
  "file_extension": ".py",
  "kernelspec": {
   "display_name": "Python 3",
   "language": "python",
   "name": "python3"
  },
  "language_info": {
   "codemirror_mode": {
    "name": "ipython",
    "version": 3
   },
   "file_extension": ".py",
   "mimetype": "text/x-python",
   "name": "python",
   "nbconvert_exporter": "python",
   "pygments_lexer": "ipython3",
   "version": "3.7.10"
  },
  "mimetype": "text/x-python",
  "name": "python",
  "npconvert_exporter": "python",
  "pygments_lexer": "ipython3",
  "version": 3
 },
 "nbformat": 4,
 "nbformat_minor": 4
}
