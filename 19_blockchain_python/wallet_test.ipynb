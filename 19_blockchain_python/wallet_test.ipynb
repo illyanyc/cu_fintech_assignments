{
 "cells": [
  {
   "cell_type": "markdown",
   "id": "771ebc98-efd7-4623-a23f-f71bf6d743c9",
   "metadata": {},
   "source": [
    "![header](https://capsule-render.vercel.app/api?type=waving&color=gradient&width=1000&height=200&section=header&text=Blockchain%20Python&fontSize=30&fontColor=black)"
   ]
  },
  {
   "cell_type": "code",
   "execution_count": 1,
   "id": "1587bbdd-d046-49b9-a6b4-d98d792c9ce8",
   "metadata": {},
   "outputs": [],
   "source": [
    "# Import dependencies\n",
    "import subprocess, os\n",
    "import json\n",
    "from dotenv import load_dotenv"
   ]
  },
  {
   "cell_type": "code",
   "execution_count": 2,
   "id": "96270fbf-c7e0-4b0e-a266-b51cd6fc6770",
   "metadata": {},
   "outputs": [
    {
     "name": "stdout",
     "output_type": "stream",
     "text": [
      "Mnemonic : foot animal peace fragile another screen amused glide news people detect ramp\n"
     ]
    }
   ],
   "source": [
    "# Load and set environment variables\n",
    "load_dotenv(\"resources/mnemonic.env\")\n",
    "mnemonic = os.getenv(\"mnemonic\")\n",
    "print(f\"Mnemonic : {mnemonic}\")"
   ]
  },
  {
   "cell_type": "code",
   "execution_count": 3,
   "id": "c318a3d6-ec79-49e6-b526-bc5940488261",
   "metadata": {},
   "outputs": [],
   "source": [
    "# Import constants.py and necessary functions from bit and web3\n",
    "from constants import *\n",
    "from bit.wallet import PrivateKeyTestnet, NetworkAPI\n",
    "from web3 import Account, Web3, HTTPProvider "
   ]
  },
  {
   "cell_type": "markdown",
   "id": "c8181388-65ac-4e6f-a5ea-239ded4d172c",
   "metadata": {},
   "source": [
    "## *Derive deterministic wallets*"
   ]
  },
  {
   "cell_type": "code",
   "execution_count": 4,
   "id": "4cf3828c-8a7b-4c82-9e54-e8276f548806",
   "metadata": {},
   "outputs": [],
   "source": [
    "# Create a function called `derive_wallets`\n",
    "def derive_wallets(coin : str,\n",
    "                   mnemonic : str = mnemonic,\n",
    "                   numderive : int = 3):\n",
    "    \n",
    "    command = f\"./derive -g --mnemonic=\\\"{mnemonic}\\\" --coin={coin} --numderive={str(numderive)} --cols=address,index,path,privkey,pubkey,pubkeyhash,xprv,xpub --format=json\"\n",
    "    p = subprocess.Popen(command, stdout=subprocess.PIPE, shell=True)\n",
    "    output, err = p.communicate()\n",
    "    p_status = p.wait()\n",
    "    return json.loads(output)"
   ]
  },
  {
   "cell_type": "code",
   "execution_count": 5,
   "id": "346a8530-6c8e-47b8-af86-194363350ec4",
   "metadata": {},
   "outputs": [],
   "source": [
    "# Create a dictionary object called coins to store the output from `derive_wallets`.\n",
    "coins = {}\n",
    "coins[BTCTEST] = derive_wallets(mnemonic=mnemonic, coin=BTCTEST)\n",
    "coins[ETH] = derive_wallets(mnemonic=mnemonic, coin=ETH)"
   ]
  },
  {
   "cell_type": "code",
   "execution_count": 6,
   "id": "0a22a5eb-2348-4de7-b46c-7033072f532f",
   "metadata": {},
   "outputs": [
    {
     "name": "stdout",
     "output_type": "stream",
     "text": [
      "1st address in BTC-TEST blockchain derived from mnemonic :\n",
      "{'address': 'mx5943UjQyiEPJZe1AbvfLBk3bc5ydNQAo',\n",
      " 'index': 0,\n",
      " 'path': \"m/44'/1'/0'/0/0\",\n",
      " 'privkey': 'cPNgiXNwcapfe93SUK5YFn8YRAe8C5LESGT4Grwwhk3r3usMCgie',\n",
      " 'pubkey': '02647bb6672062db5370dc2281751e15cb0992a3d4aaef85fc8f726eea27ca5b08',\n",
      " 'pubkeyhash': 'b5984dd3ad20d0a2f1097f0dc19806ac2dddddcb',\n",
      " 'xprv': 'tprv8koAkJFiHT4jHiAsF8AgWXZi9kNNWuUcApBjyeiBAtSYQHmKvewYAUvfJzhYkLkG4P8W15G1QVw7fqKUjv1dC6dRxCgK5cKAs7GmRmUGwKQ',\n",
      " 'xpub': 'tpubDHVCtiHxRpkQBBCf8mqGuwDpimtJgEfWk7nXGAkUbAEwEn26Z3m8LyYXV8191Gsez6audjhg5dhP7NyXfgFTyBVmKfCPTuVPHatpMdttmxd'}\n"
     ]
    }
   ],
   "source": [
    "print(\"1st address in BTC-TEST blockchain derived from mnemonic :\")\n",
    "from pprint import pprint as pprint\n",
    "pprint(coins[BTCTEST][0])"
   ]
  },
  {
   "cell_type": "code",
   "execution_count": 7,
   "id": "5590d50f-2fa2-4c17-841b-5dde43598f56",
   "metadata": {},
   "outputs": [
    {
     "name": "stdout",
     "output_type": "stream",
     "text": [
      "1st address in ETH blockchain derived from mnemonic :\n",
      "{'address': '0xc61803d7eC5247f8d61f0a015B41D2a40b7163b8',\n",
      " 'index': 0,\n",
      " 'path': \"m/44'/60'/0'/0/0\",\n",
      " 'privkey': '0x83d3e09966d875b7c6f2c78dc896973fdf725ea098e91f5b25961c4f00d97de7',\n",
      " 'pubkey': '0262718bf3764bf7f7fb359f97aa6214b9f5888f78e567574350097681b59c4c75',\n",
      " 'pubkeyhash': 'ce0ff31ea47bf38d5869307f86c143e2e1e750b0',\n",
      " 'xprv': 'xprvA2m1CSP2VoQHnmNaQdEcabhhKJ2pv8vG7AY2YoKfn6p8SJqtx785gXjvCiQG192S5xxWVrTirjsmNtkw6QRRE1tu2aqrSCwKnDeRTJAKC5u',\n",
      " 'xpub': 'xpub6FkMbwuvLAxb1FT3WemcwjeRsKsKKbe7UPTdMBjHLSM7K7B3VeSLEL4Q3yBKh9tmQ7zBbfnbPvCG18EptF6xumoXYDv1cKNnzjRPQkvigEE'}\n"
     ]
    }
   ],
   "source": [
    "print(\"1st address in ETH blockchain derived from mnemonic :\")\n",
    "from pprint import pprint as pprint\n",
    "pprint(coins[ETH][0])"
   ]
  },
  {
   "cell_type": "code",
   "execution_count": null,
   "id": "5310b6e2-653a-440a-94dc-a22d25271151",
   "metadata": {},
   "outputs": [],
   "source": [
    "# Create a function called `priv_key_to_account` that converts privkey strings to account objects.\n",
    "def priv_key_to_account(coin : str,\n",
    "                       priv_key : str):\n",
    "    '''Converts the privkey string in a child key to an account object \n",
    "    that bit or web3.py can use to transact'''\n",
    "        \n",
    "    if coin == \"btc-test\":\n",
    "        return PrivateKeyTestnet(priv_key)\n",
    "    \n",
    "    elif coin == \"eth\":\n",
    "        return Account.privateKeyToAccount(priv_key)\n"
   ]
  },
  {
   "cell_type": "code",
   "execution_count": null,
   "id": "bbba0dc1-d763-4d3e-9d45-b3c9c5e3d4c2",
   "metadata": {},
   "outputs": [],
   "source": [
    "eth_acc_1 = priv_key_to_account(ETH, coins[ETH][0]['privkey'])\n",
    "print(f\"1st Ethereum public key : {eth_acc_1.address}\")\n",
    "\n",
    "eth_acc_2 = priv_key_to_account(ETH, coins[ETH][1]['privkey'])\n",
    "print(f\"2nd Ethereum public key : {eth_acc_2.address}\")"
   ]
  },
  {
   "cell_type": "code",
   "execution_count": null,
   "id": "f1092ccb-850a-4b67-a315-53c4e72776b0",
   "metadata": {},
   "outputs": [],
   "source": [
    "btc_acc_1 = priv_key_to_account(BTCTEST, coins[BTCTEST][0]['privkey'])\n",
    "print(f\"1st Bitcoin-Testnet public key : {btc_acc_1.address}\")\n",
    "\n",
    "btc_acc_2 = priv_key_to_account(BTCTEST, coins[BTCTEST][1]['privkey'])\n",
    "print(f\"2nd Bitcoin-Testnet public key : {btc_acc_2.address}\")"
   ]
  },
  {
   "cell_type": "markdown",
   "id": "110ea020-594d-416e-9413-2bc49926c312",
   "metadata": {},
   "source": [
    "## *Connect to blockchain nodes*"
   ]
  },
  {
   "cell_type": "code",
   "execution_count": null,
   "id": "4db054e5-3cec-4b43-bf94-8643299d5f3a",
   "metadata": {},
   "outputs": [],
   "source": [
    "# Connect to Etherum Node\n",
    "url = \"http://127.0.0.1:8545\"\n",
    "w3 = Web3(HTTPProvider(url))\n",
    "\n",
    "from web3.middleware import geth_poa_middleware\n",
    "w3.middleware_onion.inject(geth_poa_middleware, layer=0)\n",
    "\n",
    "# Check connection\n",
    "print(f\"Connected to Ethereum node {url}: {w3.isConnected()}\")\n",
    "print(f\"ChainId : {w3.eth.chainId}\")"
   ]
  },
  {
   "cell_type": "markdown",
   "id": "64d04f6d-fb38-49f5-8a2c-00746a99561d",
   "metadata": {},
   "source": [
    "## *Create transaction*"
   ]
  },
  {
   "cell_type": "code",
   "execution_count": null,
   "id": "8d50c29e-15c8-4d14-837f-103387aecf8b",
   "metadata": {},
   "outputs": [],
   "source": [
    "# Create a function called `create_tx` that creates an unsigned transaction appropriate metadata.\n",
    "def create_tx(acc, \n",
    "              coin : str,\n",
    "              to : str,\n",
    "              amount : float or int,\n",
    "              gas : int = 1):\n",
    "    '''Creates the raw, unsigned transaction that contains all metadata \n",
    "        needed to transact'''\n",
    "    \n",
    "    if coin == \"btc-test\":\n",
    "        return PrivateKeyTestnet.prepare_transaction(acc.address, [(to, amount*100000000, 'usd')])\n",
    "    \n",
    "    elif coin == \"eth\":\n",
    "        return {'to': to,\n",
    "                'from' : str(acc.address),\n",
    "                'value': w3.toWei(amount,'ether'),\n",
    "                'gas': int(w3.eth.gasPrice / 100000),\n",
    "                'gasPrice': w3.eth.gasPrice,\n",
    "                'nonce': w3.eth.getTransactionCount(acc.address),\n",
    "                'chainId': w3.eth.chainId\n",
    "                }\n",
    "        "
   ]
  },
  {
   "cell_type": "code",
   "execution_count": null,
   "id": "4f537ab6-c63f-4fbe-91dd-c210ede5f315",
   "metadata": {},
   "outputs": [],
   "source": [
    "# Test Ethereum transaction\n",
    "eth_transaction = create_tx(acc = eth_acc_1, \n",
    "                            coin=ETH, \n",
    "                            to=\"0xc61803d7eC5247f8d61f0a015B41D2a40b7163b8\", \n",
    "                            amount=1)\n",
    "pprint(eth_transaction)"
   ]
  },
  {
   "cell_type": "code",
   "execution_count": null,
   "id": "f5f55c70-763f-4829-baa2-83295eb75a83",
   "metadata": {},
   "outputs": [],
   "source": [
    "# Test Bitcoin transaction\n",
    "btc_transaction = create_tx(acc = btc_acc_1, \n",
    "                            coin=BTCTEST, \n",
    "                            to=\"mx5943UjQyiEPJZe1AbvfLBk3bc5ydNQAo\", \n",
    "                            amount=0.0000001)\n",
    "pprint(btc_transaction)"
   ]
  },
  {
   "cell_type": "markdown",
   "id": "10d6183e-16c2-4325-b1ff-952f5bf2c1df",
   "metadata": {},
   "source": [
    "## *Send transaction*"
   ]
  },
  {
   "cell_type": "code",
   "execution_count": null,
   "id": "84711d46-e43a-45ae-bf92-5193a321b29d",
   "metadata": {},
   "outputs": [],
   "source": [
    "# Create a function called `send_tx` that calls `create_tx`, signs and sends the transaction.\n",
    "def send_tx(account, \n",
    "            coin : str,\n",
    "            to : str,\n",
    "            amount : float or int,\n",
    "            gas : int = 1):\n",
    "    \n",
    "    raw_tx = create_tx(acc=account,\n",
    "                       coin=coin,\n",
    "                       to=to,\n",
    "                       amount=amount,\n",
    "                       gas=gas)\n",
    "    \n",
    "    if coin == \"btc-test\":\n",
    "        # Sign the transaction with your new wallet private key\n",
    "        signed = account.sign_transaction(raw_tx)\n",
    "        \n",
    "        # Transmit the transaction\n",
    "        NetworkAPI.broadcast_tx_testnet(signed)\n",
    "        print(f\"{amount} tBTC sent from : {account.address} to : {to}\")\n",
    "    \n",
    "    elif coin == \"eth\":\n",
    "        # Sign the transaction with your new wallet private key\n",
    "        signed = account.sign_transaction(raw_tx)\n",
    "        \n",
    "        # Transmit the transaction\n",
    "        w3.eth.sendRawTransaction(signed.rawTransaction)\n",
    "        print(f\"{w3.fromWei(amount, 'ether')} eth sent from : {account.address} to : {to}\") \n",
    "        print(f\"Signed transaction : {signed.rawTransaction.hex()}\")\n",
    "        print(f\"Signed transaction hash : {signed.hash.hex()}\")"
   ]
  },
  {
   "cell_type": "code",
   "execution_count": null,
   "id": "b74ef900-493e-44dc-9f2b-06305a42f658",
   "metadata": {},
   "outputs": [],
   "source": [
    "# Test Bitcoin transaction\n",
    "btc_acc = priv_key_to_account(BTCTEST, coins[BTCTEST][0]['privkey'])\n",
    "btc_transaction = send_tx(account = btc_acc, \n",
    "                          coin=BTCTEST,\n",
    "                          to=\"mkQwyRXQY19EZvY67JhdMpkzzQ8SkiiGUQ\",\n",
    "                          amount=0.00000000001)"
   ]
  },
  {
   "cell_type": "code",
   "execution_count": null,
   "id": "9d69c23c-16c5-47ce-8490-b241b73923a7",
   "metadata": {},
   "outputs": [],
   "source": [
    "# Test Ethereum transaction\n",
    "eth_acc = priv_key_to_account(ETH, coins[ETH][0]['privkey'])\n",
    "eth_transaction = send_tx(account = eth_acc, \n",
    "                          coin=ETH,\n",
    "                          to=\"0x28E72008368b60bf3400232786aeDc603990F15F\",\n",
    "                          amount=10)"
   ]
  },
  {
   "cell_type": "code",
   "execution_count": null,
   "id": "e009d348-2d48-4808-9e3a-f6b4f004483c",
   "metadata": {},
   "outputs": [],
   "source": []
  }
 ],
 "metadata": {
  "kernelspec": {
   "display_name": "Python 3 (ipykernel)",
   "language": "python",
   "name": "python3"
  },
  "language_info": {
   "codemirror_mode": {
    "name": "ipython",
    "version": 3
   },
   "file_extension": ".py",
   "mimetype": "text/x-python",
   "name": "python",
   "nbconvert_exporter": "python",
   "pygments_lexer": "ipython3",
   "version": "3.9.6"
  }
 },
 "nbformat": 4,
 "nbformat_minor": 5
}
